{
  "nbformat": 4,
  "nbformat_minor": 0,
  "metadata": {
    "colab": {
      "provenance": []
    },
    "kernelspec": {
      "name": "python3",
      "display_name": "Python 3"
    },
    "language_info": {
      "name": "python"
    }
  },
  "cells": [
    {
      "cell_type": "code",
      "source": [
        "n = int(input(\"Enter an integer value greater than 0: \"))\n",
        "\n",
        "even_numbers = []\n",
        "odd_numbers = []\n",
        "fibonacci_numbers = [0,1]\n",
        "\n",
        "# Check n value is greater than 0\n",
        "if n > 0:\n",
        "\n",
        "    for num in range(2,n+1):\n",
        "        fibonacci_numbers.append(fibonacci_numbers[num - 1] + fibonacci_numbers[num - 2])\n",
        "        \n",
        "    for number in range(n):\n",
        "        even_numbers.append(2*number)\n",
        "        odd_numbers.append(2*number+1)\n",
        "\n",
        "    print(\"-\"*37)\n",
        "    print(\"|{:^5}|{:^8}|{:^8}|{:^12}|\".format(\"\",\"Even\",\"Odd\",\"Fibonacci\"))\n",
        "    print(\"-\"*37)\n",
        "    \n",
        "    for index in range(n):\n",
        "        print(\"|{:^5}|{:^8}|{:^8}|{:^12}|\".format(index,even_numbers[index],odd_numbers[index],fibonacci_numbers[index]))\n",
        "        print(\"-\"*37)\n",
        "\n",
        "        "
      ],
      "metadata": {
        "id": "SjufSCMqArxV"
      },
      "execution_count": null,
      "outputs": []
    }
  ]
}